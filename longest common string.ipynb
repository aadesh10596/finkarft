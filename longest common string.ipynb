{
 "cells": [
  {
   "cell_type": "raw",
   "id": "1ed3e483",
   "metadata": {},
   "source": [
    "Write a Python program that finds the longest common substring between two strings."
   ]
  },
  {
   "cell_type": "code",
   "execution_count": 15,
   "id": "8442d071",
   "metadata": {},
   "outputs": [
    {
     "name": "stdout",
     "output_type": "stream",
     "text": [
      "5\n"
     ]
    }
   ],
   "source": [
    "def lcs(i, j, count):\n",
    " \n",
    "    if (i == 0 or j == 0):\n",
    "        return count\n",
    " \n",
    "    if (X[i - 1] == Y[j - 1]):\n",
    "        count = lcs(i - 1, j - 1, count + 1)\n",
    " \n",
    "    count = max(count, max(lcs(i, j - 1, 0),\n",
    "                           lcs(i - 1, j, 0)))\n",
    " \n",
    "    return count\n",
    " \n",
    " \n",
    "if __name__ == \"__main__\":\n",
    " \n",
    "    X = \"abcdexyz\"\n",
    "    Y = \"xyzabcde\"\n",
    " \n",
    "    n = len(X)\n",
    "    m = len(Y)\n",
    "    \n",
    "    print(lcs(n, m, 0))\n",
    " "
   ]
  },
  {
   "cell_type": "code",
   "execution_count": null,
   "id": "8320fb5a",
   "metadata": {},
   "outputs": [],
   "source": []
  },
  {
   "cell_type": "code",
   "execution_count": null,
   "id": "d46cfa1a",
   "metadata": {},
   "outputs": [],
   "source": []
  }
 ],
 "metadata": {
  "kernelspec": {
   "display_name": "Python 3 (ipykernel)",
   "language": "python",
   "name": "python3"
  },
  "language_info": {
   "codemirror_mode": {
    "name": "ipython",
    "version": 3
   },
   "file_extension": ".py",
   "mimetype": "text/x-python",
   "name": "python",
   "nbconvert_exporter": "python",
   "pygments_lexer": "ipython3",
   "version": "3.9.12"
  }
 },
 "nbformat": 4,
 "nbformat_minor": 5
}
